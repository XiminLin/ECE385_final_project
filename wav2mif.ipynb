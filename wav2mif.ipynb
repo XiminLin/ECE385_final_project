{
 "cells": [
  {
   "cell_type": "code",
   "execution_count": null,
   "metadata": {},
   "outputs": [],
   "source": [
    "import wave\n",
    "import audioop\n",
    "\n",
    "fd = wave.open('caibutou.wav')\n",
    "print \"num_channels\", fd.getnchannels()\n",
    "\n",
    "params = fd.getparams()\n",
    "frames = fd.readframes(1000000) # 1 million frames max\n",
    "\n",
    "print(params)\n",
    "\n",
    "frames = audioop.reverse(frames, params[1])\n",
    "\n",
    "fd.close()\n",
    "\n",
    "fd = wave.open('output.wav', 'wb')\n",
    "fd.setparams(params)\n",
    "fd.writeframes(frames)\n",
    "fd.close()"
   ]
  },
  {
   "cell_type": "code",
   "execution_count": null,
   "metadata": {
    "scrolled": true
   },
   "outputs": [],
   "source": [
    "from scipy.io import wavfile\n",
    "from IPython.display import Audio\n",
    "import numpy as np\n",
    "\n",
    "rate, data = wavfile.read(\"caibutou.wav\")\n",
    "# data0 is the data from channel 0.\n",
    "data0 = data[::2, 0]\n",
    "data1 = data[:, 1]\n",
    "\n",
    "wavfile.write(\"zeroChannel.wav\", 48000, data0.astype(np.int16))\n",
    "wavfile.write(\"oneChannel.wav\", rate, data1.astype(np.int16))"
   ]
  },
  {
   "cell_type": "code",
   "execution_count": null,
   "metadata": {},
   "outputs": [],
   "source": [
    "print len(data)"
   ]
  },
  {
   "cell_type": "code",
   "execution_count": null,
   "metadata": {
    "scrolled": true
   },
   "outputs": [],
   "source": [
    "rate, data = wavfile.read(\"zeroChannel.wav\")"
   ]
  },
  {
   "cell_type": "code",
   "execution_count": null,
   "metadata": {
    "scrolled": true
   },
   "outputs": [],
   "source": [
    "Audio(\"zeroChannel.wav\", autoplay = False)"
   ]
  },
  {
   "cell_type": "code",
   "execution_count": null,
   "metadata": {
    "scrolled": true
   },
   "outputs": [],
   "source": [
    "Audio(\"oneChannel.wav\", autoplay = False)"
   ]
  },
  {
   "cell_type": "code",
   "execution_count": null,
   "metadata": {},
   "outputs": [],
   "source": [
    "with open(\"audio_test.txt\",\"w\") as f:\n",
    "    for val in data:\n",
    "#         f.write(hex(val & 0xffff) + \"\\n\");\n",
    "#         if val < -65536 or val > 65535:\n",
    "#             print \"over\"\n",
    "        f.write(hex(val & 0xff)+\"\\n\")\n",
    "        f.write(hex((val & 0xff00) >> 8) +\"\\n\")"
   ]
  },
  {
   "cell_type": "code",
   "execution_count": null,
   "metadata": {},
   "outputs": [],
   "source": [
    "with open(\"audio_test.txt\",\"w\") as f:\n",
    "    for val in range(1000000):\n",
    "        f.write(hex(val & 0xffff) + \"\\n\");\n",
    "#         f.write(hex(val & 0xff)+\"\\n\")\n",
    "#         f.write(hex((val & 0xff00) >> 16 ) +\"\\n\")"
   ]
  },
  {
   "cell_type": "code",
   "execution_count": null,
   "metadata": {},
   "outputs": [],
   "source": [
    "import soundfile as sf\n",
    "import os\n",
    "\n",
    "for filename in os.listdir(\"Music\"):\n",
    "    readfile = os.path.join(\"Music\", filename)\n",
    "    if(readfile.endswith(\".ogg\")):\n",
    "        writefile = readfile.strip('.ogg')\n",
    "    elif(readfile.endswith(\".OGG\")):\n",
    "        writefile = readfile.strip(\".OGG\")\n",
    "    if(readfile.endswith(\".wav\")):\n",
    "        continue\n",
    "    writefile += \".wav\"\n",
    "    data,rate = sf.read(readfile)\n",
    "    print writefile, rate\n",
    "    sf.write(writefile, data, rate)"
   ]
  },
  {
   "cell_type": "code",
   "execution_count": null,
   "metadata": {},
   "outputs": [],
   "source": [
    "rate0, data = wavfile.read(\"Music\\Title.wav\")\n",
    "data0 = data[:2000000:2,0]\n",
    "print 2*len(data0), rate0\n",
    "rate, data = wavfile.read(\"Music\\STAB_T.wav\")\n",
    "data1 = data[::2,0]\n",
    "print 2*(len(data0) + len(data1)), rate\n",
    "rate, data = wavfile.read(\"Music\\STAB_F.wav\")\n",
    "data2 = data[::2,0]\n",
    "print 2*(len(data2) + len(data1) + len(data0)), rate\n",
    "rate, data = wavfile.read(\"Music\\death.wav\")\n",
    "data3 = data[::2,0]\n",
    "print 2*(len(data3) + len(data2) + len(data1) + len(data0)), rate\n",
    "data = np.asarray(data0.tolist() + data1.tolist() + data2.tolist() + data3.tolist() );\n",
    "# print count\n",
    "print 2*len(data)\n",
    "wavfile.write(\"title_test.wav\", 24000, data.astype(np.int16) )\n",
    "Audio(\"title_test.wav\")"
   ]
  },
  {
   "cell_type": "code",
   "execution_count": null,
   "metadata": {},
   "outputs": [],
   "source": [
    "wavfile.write(\"title_test.wav\", rate0, data0.astype(np.int16) )\n",
    "Audio(\"title_test.wav\", autoplay = False)"
   ]
  },
  {
   "cell_type": "code",
   "execution_count": null,
   "metadata": {},
   "outputs": [],
   "source": [
    "with open(\"audio_test.ram\", \"wb\") as f:\n",
    "    for val in data:\n",
    "#         hex(int(val) & 0xffff)\n",
    "        f.write( np.int8(int(val) & 0xff) )\n",
    "        f.write( np.int8((int(val) & 0xff00) >> 8 ) )\n",
    "#         f.write( np.int16(int(val) & 0xffff) )\n",
    "#         f.write((np.int16(val) & 0xff00) >> 8 )"
   ]
  }
 ],
 "metadata": {
  "kernelspec": {
   "display_name": "Python 2",
   "language": "python",
   "name": "python2"
  },
  "language_info": {
   "codemirror_mode": {
    "name": "ipython",
    "version": 2
   },
   "file_extension": ".py",
   "mimetype": "text/x-python",
   "name": "python",
   "nbconvert_exporter": "python",
   "pygments_lexer": "ipython2",
   "version": "2.7.14"
  }
 },
 "nbformat": 4,
 "nbformat_minor": 2
}
